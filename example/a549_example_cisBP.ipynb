{
 "cells": [
  {
   "cell_type": "markdown",
   "metadata": {
    "deletable": true,
    "editable": true
   },
   "source": [
    "# Example usage of GarNet"
   ]
  },
  {
   "cell_type": "code",
   "execution_count": 1,
   "metadata": {
    "collapsed": false,
    "deletable": true,
    "editable": true
   },
   "outputs": [],
   "source": [
    "import sys\n",
    "sys.path.append(\"../GarNet\")\n",
    "\n",
    "import pandas as pd\n",
    "import numpy as np\n",
    "\n",
    "import garnet\n",
    "\n",
    "# Having issues importing despite module exising in virtual environment? \n",
    "# See https://github.com/jupyter/notebook/issues/397"
   ]
  },
  {
   "cell_type": "markdown",
   "metadata": {
    "deletable": true,
    "editable": true
   },
   "source": [
    "# Generate GarNet file\n",
    "\n",
    "Skip this section if GarNet file has already been generated. See Appendix for how to obtain UCSC reference file."
   ]
  },
  {
   "cell_type": "code",
   "execution_count": 2,
   "metadata": {
    "collapsed": false,
    "deletable": true,
    "editable": true
   },
   "outputs": [
    {
     "name": "stderr",
     "output_type": "stream",
     "text": [
      "12:16:20 - GarNet: INFO -   - Wrote TSS file to ../garnet_data/reference/ucsc_reference.hg19.tss.bed\n",
      "12:16:20 - GarNet: INFO -   - Searching for motifs near genes. This may take a while...\n",
      "12:16:29 - GarNet: INFO -   - 181422 motif-gene associations found and written to ../garnet_data/cisBP_hg19_SLIM/garnetDB_cisBP.hg19.LOD.10kb.chr1_SLIM.tsv\n"
     ]
    },
    {
     "data": {
      "text/html": [
       "<div>\n",
       "<table border=\"1\" class=\"dataframe\">\n",
       "  <thead>\n",
       "    <tr style=\"text-align: right;\">\n",
       "      <th></th>\n",
       "      <th>motifChrom</th>\n",
       "      <th>motifStart</th>\n",
       "      <th>motifEnd</th>\n",
       "      <th>motifName</th>\n",
       "      <th>motifScore</th>\n",
       "      <th>motifStrand</th>\n",
       "      <th>geneName</th>\n",
       "      <th>tssStart</th>\n",
       "      <th>tssEnd</th>\n",
       "      <th>motif_gene_distance</th>\n",
       "    </tr>\n",
       "  </thead>\n",
       "  <tbody>\n",
       "    <tr>\n",
       "      <th>0</th>\n",
       "      <td>chr1</td>\n",
       "      <td>17000</td>\n",
       "      <td>17008</td>\n",
       "      <td>HOXA4</td>\n",
       "      <td>8.846505</td>\n",
       "      <td>+</td>\n",
       "      <td>DDX11L1</td>\n",
       "      <td>11873</td>\n",
       "      <td>11874</td>\n",
       "      <td>5135</td>\n",
       "    </tr>\n",
       "    <tr>\n",
       "      <th>1</th>\n",
       "      <td>chr1</td>\n",
       "      <td>18055</td>\n",
       "      <td>18067</td>\n",
       "      <td>LMO2</td>\n",
       "      <td>8.768321</td>\n",
       "      <td>+</td>\n",
       "      <td>DDX11L1</td>\n",
       "      <td>11873</td>\n",
       "      <td>11874</td>\n",
       "      <td>6194</td>\n",
       "    </tr>\n",
       "    <tr>\n",
       "      <th>2</th>\n",
       "      <td>chr1</td>\n",
       "      <td>18339</td>\n",
       "      <td>18351</td>\n",
       "      <td>LMO2</td>\n",
       "      <td>8.901481</td>\n",
       "      <td>+</td>\n",
       "      <td>DDX11L1</td>\n",
       "      <td>11873</td>\n",
       "      <td>11874</td>\n",
       "      <td>6478</td>\n",
       "    </tr>\n",
       "    <tr>\n",
       "      <th>3</th>\n",
       "      <td>chr1</td>\n",
       "      <td>19086</td>\n",
       "      <td>19096</td>\n",
       "      <td>SREBF1</td>\n",
       "      <td>11.043803</td>\n",
       "      <td>-</td>\n",
       "      <td>DDX11L1</td>\n",
       "      <td>11873</td>\n",
       "      <td>11874</td>\n",
       "      <td>7213</td>\n",
       "    </tr>\n",
       "    <tr>\n",
       "      <th>4</th>\n",
       "      <td>chr1</td>\n",
       "      <td>19858</td>\n",
       "      <td>19866</td>\n",
       "      <td>HOXA4</td>\n",
       "      <td>8.539458</td>\n",
       "      <td>+</td>\n",
       "      <td>DDX11L1</td>\n",
       "      <td>11873</td>\n",
       "      <td>11874</td>\n",
       "      <td>7993</td>\n",
       "    </tr>\n",
       "  </tbody>\n",
       "</table>\n",
       "</div>"
      ],
      "text/plain": [
       "  motifChrom  motifStart  motifEnd motifName  motifScore motifStrand geneName  \\\n",
       "0       chr1       17000     17008     HOXA4    8.846505           +  DDX11L1   \n",
       "1       chr1       18055     18067      LMO2    8.768321           +  DDX11L1   \n",
       "2       chr1       18339     18351      LMO2    8.901481           +  DDX11L1   \n",
       "3       chr1       19086     19096    SREBF1   11.043803           -  DDX11L1   \n",
       "4       chr1       19858     19866     HOXA4    8.539458           +  DDX11L1   \n",
       "\n",
       "   tssStart  tssEnd  motif_gene_distance  \n",
       "0     11873   11874                 5135  \n",
       "1     11873   11874                 6194  \n",
       "2     11873   11874                 6478  \n",
       "3     11873   11874                 7213  \n",
       "4     11873   11874                 7993  "
      ]
     },
     "execution_count": 2,
     "metadata": {},
     "output_type": "execute_result"
    }
   ],
   "source": [
    "reference_filepath = \"../garnet_data/reference/ucsc_reference.hg19.bed\"\n",
    "motif_filepath = \"../garnet_data/cisBP_hg19_SLIM/cisBP.hg19.LOD.10kb.chr1_SLIM.bed\"\n",
    "garnet_filepath = \"../garnet_data/cisBP_hg19_SLIM/garnetDB_cisBP.hg19.LOD.10kb.chr1_SLIM.tsv\"\n",
    "\n",
    "garnet_df = garnet.construct_garnet_file(reference_filepath, motif_filepath, garnet_filepath)\n",
    "garnet_df.head()"
   ]
  },
  {
   "cell_type": "markdown",
   "metadata": {
    "deletable": true,
    "editable": true
   },
   "source": [
    "# Map peaks to genes using a549 data\n",
    "\n",
    "This is accomplished by intersecting motifs with genes specified in the open chromatin bed file. "
   ]
  },
  {
   "cell_type": "code",
   "execution_count": 3,
   "metadata": {
    "collapsed": false,
    "deletable": true,
    "editable": true
   },
   "outputs": [
    {
     "data": {
      "text/html": [
       "<div>\n",
       "<table border=\"1\" class=\"dataframe\">\n",
       "  <thead>\n",
       "    <tr style=\"text-align: right;\">\n",
       "      <th></th>\n",
       "      <th>chrom</th>\n",
       "      <th>start</th>\n",
       "      <th>end</th>\n",
       "      <th>motifName</th>\n",
       "      <th>motifScore</th>\n",
       "      <th>motifStrand</th>\n",
       "      <th>geneName</th>\n",
       "      <th>geneStart</th>\n",
       "      <th>geneEnd</th>\n",
       "      <th>motif_gene_distance</th>\n",
       "    </tr>\n",
       "  </thead>\n",
       "  <tbody>\n",
       "    <tr>\n",
       "      <th>0</th>\n",
       "      <td>chr1</td>\n",
       "      <td>565301</td>\n",
       "      <td>565308</td>\n",
       "      <td>HOXA4</td>\n",
       "      <td>7.539123</td>\n",
       "      <td>-</td>\n",
       "      <td>JA429830</td>\n",
       "      <td>566114</td>\n",
       "      <td>566115</td>\n",
       "      <td>813</td>\n",
       "    </tr>\n",
       "    <tr>\n",
       "      <th>1</th>\n",
       "      <td>chr1</td>\n",
       "      <td>565460</td>\n",
       "      <td>565467</td>\n",
       "      <td>HOXA4</td>\n",
       "      <td>7.539123</td>\n",
       "      <td>-</td>\n",
       "      <td>JA429830</td>\n",
       "      <td>566114</td>\n",
       "      <td>566115</td>\n",
       "      <td>654</td>\n",
       "    </tr>\n",
       "    <tr>\n",
       "      <th>2</th>\n",
       "      <td>chr1</td>\n",
       "      <td>568230</td>\n",
       "      <td>568241</td>\n",
       "      <td>GATA1</td>\n",
       "      <td>10.237757</td>\n",
       "      <td>-</td>\n",
       "      <td>JA429830</td>\n",
       "      <td>566114</td>\n",
       "      <td>566115</td>\n",
       "      <td>-2116</td>\n",
       "    </tr>\n",
       "    <tr>\n",
       "      <th>3</th>\n",
       "      <td>chr1</td>\n",
       "      <td>568231</td>\n",
       "      <td>568240</td>\n",
       "      <td>LMO2</td>\n",
       "      <td>8.409497</td>\n",
       "      <td>-</td>\n",
       "      <td>JA429830</td>\n",
       "      <td>566114</td>\n",
       "      <td>566115</td>\n",
       "      <td>-2117</td>\n",
       "    </tr>\n",
       "    <tr>\n",
       "      <th>4</th>\n",
       "      <td>chr1</td>\n",
       "      <td>570229</td>\n",
       "      <td>570235</td>\n",
       "      <td>HOXA4</td>\n",
       "      <td>7.118708</td>\n",
       "      <td>+</td>\n",
       "      <td>JA429830</td>\n",
       "      <td>566114</td>\n",
       "      <td>566115</td>\n",
       "      <td>-4121</td>\n",
       "    </tr>\n",
       "  </tbody>\n",
       "</table>\n",
       "</div>"
      ],
      "text/plain": [
       "  chrom   start     end motifName  motifScore motifStrand  geneName  \\\n",
       "0  chr1  565301  565308     HOXA4    7.539123           -  JA429830   \n",
       "1  chr1  565460  565467     HOXA4    7.539123           -  JA429830   \n",
       "2  chr1  568230  568241     GATA1   10.237757           -  JA429830   \n",
       "3  chr1  568231  568240      LMO2    8.409497           -  JA429830   \n",
       "4  chr1  570229  570235     HOXA4    7.118708           +  JA429830   \n",
       "\n",
       "   geneStart  geneEnd  motif_gene_distance  \n",
       "0     566114   566115                  813  \n",
       "1     566114   566115                  654  \n",
       "2     566114   566115                -2116  \n",
       "3     566114   566115                -2117  \n",
       "4     566114   566115                -4121  "
      ]
     },
     "execution_count": 3,
     "metadata": {},
     "output_type": "execute_result"
    }
   ],
   "source": [
    "peaks_filepath = \"a549_example_peaks.chr1.bed\"\n",
    "\n",
    "df = garnet.map_peaks(peaks_filepath, garnet_filepath)\n",
    "df.head()"
   ]
  },
  {
   "cell_type": "markdown",
   "metadata": {
    "deletable": true,
    "editable": true
   },
   "source": [
    "Perform regression, plots are automatically generated in `regression_plots/`. "
   ]
  },
  {
   "cell_type": "code",
   "execution_count": 4,
   "metadata": {
    "collapsed": false,
    "deletable": true,
    "editable": true,
    "scrolled": true
   },
   "outputs": [
    {
     "name": "stderr",
     "output_type": "stream",
     "text": [
      "12:16:31 - GarNet: INFO - Performing linear regression for 7 transcription factor expression profiles...\n"
     ]
    },
    {
     "data": {
      "text/html": [
       "<div>\n",
       "<table border=\"1\" class=\"dataframe\">\n",
       "  <thead>\n",
       "    <tr style=\"text-align: right;\">\n",
       "      <th></th>\n",
       "      <th>Transcription Factor</th>\n",
       "      <th>Slope</th>\n",
       "      <th>P-Value</th>\n",
       "      <th>Targets</th>\n",
       "    </tr>\n",
       "  </thead>\n",
       "  <tbody>\n",
       "    <tr>\n",
       "      <th>1</th>\n",
       "      <td>CEBPB</td>\n",
       "      <td>1.741927</td>\n",
       "      <td>0.070899</td>\n",
       "      <td>NBL1,NBL1,NBL1,NBL1,NBL1,NBL1,NBL1,NIPAL3,DHCR...</td>\n",
       "    </tr>\n",
       "    <tr>\n",
       "      <th>4</th>\n",
       "      <td>HOXA4</td>\n",
       "      <td>0.289860</td>\n",
       "      <td>0.089367</td>\n",
       "      <td>CTNNBIP1,CAMK2N1,ID3,ID3,EPB41,DHCR24,DHCR24,I...</td>\n",
       "    </tr>\n",
       "    <tr>\n",
       "      <th>2</th>\n",
       "      <td>EGR3</td>\n",
       "      <td>0.238963</td>\n",
       "      <td>0.428018</td>\n",
       "      <td>ACOT7,ACOT7,LEPRE1,HOOK1,HOOK1,HOOK1,HOOK1,CYR...</td>\n",
       "    </tr>\n",
       "    <tr>\n",
       "      <th>0</th>\n",
       "      <td>ATF5</td>\n",
       "      <td>-0.431197</td>\n",
       "      <td>0.518044</td>\n",
       "      <td>ACOT7,ACOT7,CDA,ID3,CSF1,IL6R,PBXIP1,PBXIP1,PB...</td>\n",
       "    </tr>\n",
       "    <tr>\n",
       "      <th>6</th>\n",
       "      <td>SREBF1</td>\n",
       "      <td>-0.771848</td>\n",
       "      <td>0.657720</td>\n",
       "      <td>SAMD11,SAMD11,SAMD11,SAMD11,SAMD11,EPB41,KIAA1...</td>\n",
       "    </tr>\n",
       "    <tr>\n",
       "      <th>5</th>\n",
       "      <td>LMO2</td>\n",
       "      <td>-0.222877</td>\n",
       "      <td>0.713435</td>\n",
       "      <td>SAMD11,SAMD11,ARHGEF16,CAMK2N1,CAMK2N1,NIPAL3,...</td>\n",
       "    </tr>\n",
       "    <tr>\n",
       "      <th>3</th>\n",
       "      <td>GATA1</td>\n",
       "      <td>-0.089704</td>\n",
       "      <td>0.778543</td>\n",
       "      <td>ARHGEF16,NIPAL3,KIAA1522,KIAA1522,PIK3R3,PIK3R...</td>\n",
       "    </tr>\n",
       "  </tbody>\n",
       "</table>\n",
       "</div>"
      ],
      "text/plain": [
       "  Transcription Factor     Slope   P-Value  \\\n",
       "1                CEBPB  1.741927  0.070899   \n",
       "4                HOXA4  0.289860  0.089367   \n",
       "2                 EGR3  0.238963  0.428018   \n",
       "0                 ATF5 -0.431197  0.518044   \n",
       "6               SREBF1 -0.771848  0.657720   \n",
       "5                 LMO2 -0.222877  0.713435   \n",
       "3                GATA1 -0.089704  0.778543   \n",
       "\n",
       "                                             Targets  \n",
       "1  NBL1,NBL1,NBL1,NBL1,NBL1,NBL1,NBL1,NIPAL3,DHCR...  \n",
       "4  CTNNBIP1,CAMK2N1,ID3,ID3,EPB41,DHCR24,DHCR24,I...  \n",
       "2  ACOT7,ACOT7,LEPRE1,HOOK1,HOOK1,HOOK1,HOOK1,CYR...  \n",
       "0  ACOT7,ACOT7,CDA,ID3,CSF1,IL6R,PBXIP1,PBXIP1,PB...  \n",
       "6  SAMD11,SAMD11,SAMD11,SAMD11,SAMD11,EPB41,KIAA1...  \n",
       "5  SAMD11,SAMD11,ARHGEF16,CAMK2N1,CAMK2N1,NIPAL3,...  \n",
       "3  ARHGEF16,NIPAL3,KIAA1522,KIAA1522,PIK3R3,PIK3R...  "
      ]
     },
     "execution_count": 4,
     "metadata": {},
     "output_type": "execute_result"
    }
   ],
   "source": [
    "expression_filepath = \"a549_example_expression.txt\"\n",
    "\n",
    "results = garnet.TF_regression(df, expression_filepath, \".\")\n",
    "results.sort_values(\"P-Value\", inplace=True)\n",
    "results.head(10)"
   ]
  },
  {
   "cell_type": "markdown",
   "metadata": {
    "deletable": true,
    "editable": true
   },
   "source": [
    "# Appendix\n",
    "\n",
    "## Download and format reference file\n",
    "\n",
    "### 1. Download UCSC known genes file\n",
    "\n",
    "Visit [UCSC Table Browser](https://genome.ucsc.edu/cgi-bin/hgTables?command=start) and select the following options\n",
    "\n",
    " - **assembly**: Feb. 2009 (GRCh37/hg19)\n",
    " - **group**: Genes and Gene Predictions\n",
    " - **track**: UCSC Genes\n",
    " - **table**: knownGene\n",
    " - **region**: genome\n",
    " - **output format**: selected fields from primary and related tables\n",
    "\n",
    "Press \"get output\", clear all fields, then check the following fields:\n",
    "\n",
    " - chrom\n",
    " - strand\n",
    " - txStart\n",
    " - txEnd\n",
    " - geneSymbol\n",
    " \n",
    "Press \"get output\" again, and save the table locally. A copy (retrieved 9/11/2017) is saved in `../garnet_data/reference/ucsc_known_genes.hg19.tsv`.\n",
    "\n",
    "### 2. Reformat to BED file"
   ]
  },
  {
   "cell_type": "code",
   "execution_count": 5,
   "metadata": {
    "collapsed": false,
    "deletable": true,
    "editable": true
   },
   "outputs": [
    {
     "data": {
      "text/html": [
       "<div>\n",
       "<table border=\"1\" class=\"dataframe\">\n",
       "  <thead>\n",
       "    <tr style=\"text-align: right;\">\n",
       "      <th></th>\n",
       "      <th>chrom</th>\n",
       "      <th>strand</th>\n",
       "      <th>chromStart</th>\n",
       "      <th>chromEnd</th>\n",
       "      <th>name</th>\n",
       "      <th>score</th>\n",
       "    </tr>\n",
       "  </thead>\n",
       "  <tbody>\n",
       "    <tr>\n",
       "      <th>0</th>\n",
       "      <td>chr1</td>\n",
       "      <td>+</td>\n",
       "      <td>11873</td>\n",
       "      <td>14409</td>\n",
       "      <td>DDX11L1</td>\n",
       "      <td>.</td>\n",
       "    </tr>\n",
       "    <tr>\n",
       "      <th>3</th>\n",
       "      <td>chr1</td>\n",
       "      <td>-</td>\n",
       "      <td>14361</td>\n",
       "      <td>16765</td>\n",
       "      <td>WASH7P</td>\n",
       "      <td>.</td>\n",
       "    </tr>\n",
       "    <tr>\n",
       "      <th>4</th>\n",
       "      <td>chr1</td>\n",
       "      <td>-</td>\n",
       "      <td>16857</td>\n",
       "      <td>17751</td>\n",
       "      <td>WASH7P</td>\n",
       "      <td>.</td>\n",
       "    </tr>\n",
       "    <tr>\n",
       "      <th>5</th>\n",
       "      <td>chr1</td>\n",
       "      <td>-</td>\n",
       "      <td>15795</td>\n",
       "      <td>18061</td>\n",
       "      <td>WASH7P</td>\n",
       "      <td>.</td>\n",
       "    </tr>\n",
       "    <tr>\n",
       "      <th>6</th>\n",
       "      <td>chr1</td>\n",
       "      <td>-</td>\n",
       "      <td>14361</td>\n",
       "      <td>19759</td>\n",
       "      <td>WASH7P</td>\n",
       "      <td>.</td>\n",
       "    </tr>\n",
       "  </tbody>\n",
       "</table>\n",
       "</div>"
      ],
      "text/plain": [
       "  chrom strand  chromStart  chromEnd     name score\n",
       "0  chr1      +       11873     14409  DDX11L1     .\n",
       "3  chr1      -       14361     16765   WASH7P     .\n",
       "4  chr1      -       16857     17751   WASH7P     .\n",
       "5  chr1      -       15795     18061   WASH7P     .\n",
       "6  chr1      -       14361     19759   WASH7P     ."
      ]
     },
     "execution_count": 5,
     "metadata": {},
     "output_type": "execute_result"
    }
   ],
   "source": [
    "ucsc_reference = pd.read_csv(\"../garnet_data/reference/ucsc_known_genes.hg19.tsv\", sep='\\t', names=[\"chrom\", \"strand\", \"chromStart\", \"chromEnd\", \"name\"], comment=\"#\")\n",
    "ucsc_reference.drop_duplicates(inplace=True)\n",
    "ucsc_reference[\"score\"] = \".\"\n",
    "ucsc_reference.head()"
   ]
  },
  {
   "cell_type": "code",
   "execution_count": 6,
   "metadata": {
    "collapsed": false,
    "deletable": true,
    "editable": true
   },
   "outputs": [
    {
     "data": {
      "text/html": [
       "<div>\n",
       "<table border=\"1\" class=\"dataframe\">\n",
       "  <thead>\n",
       "    <tr style=\"text-align: right;\">\n",
       "      <th></th>\n",
       "      <th>chrom</th>\n",
       "      <th>chromStart</th>\n",
       "      <th>chromEnd</th>\n",
       "      <th>name</th>\n",
       "      <th>score</th>\n",
       "      <th>strand</th>\n",
       "    </tr>\n",
       "  </thead>\n",
       "  <tbody>\n",
       "    <tr>\n",
       "      <th>0</th>\n",
       "      <td>chr1</td>\n",
       "      <td>11873</td>\n",
       "      <td>14409</td>\n",
       "      <td>DDX11L1</td>\n",
       "      <td>.</td>\n",
       "      <td>+</td>\n",
       "    </tr>\n",
       "    <tr>\n",
       "      <th>3</th>\n",
       "      <td>chr1</td>\n",
       "      <td>14361</td>\n",
       "      <td>16765</td>\n",
       "      <td>WASH7P</td>\n",
       "      <td>.</td>\n",
       "      <td>-</td>\n",
       "    </tr>\n",
       "    <tr>\n",
       "      <th>4</th>\n",
       "      <td>chr1</td>\n",
       "      <td>16857</td>\n",
       "      <td>17751</td>\n",
       "      <td>WASH7P</td>\n",
       "      <td>.</td>\n",
       "      <td>-</td>\n",
       "    </tr>\n",
       "    <tr>\n",
       "      <th>5</th>\n",
       "      <td>chr1</td>\n",
       "      <td>15795</td>\n",
       "      <td>18061</td>\n",
       "      <td>WASH7P</td>\n",
       "      <td>.</td>\n",
       "      <td>-</td>\n",
       "    </tr>\n",
       "    <tr>\n",
       "      <th>6</th>\n",
       "      <td>chr1</td>\n",
       "      <td>14361</td>\n",
       "      <td>19759</td>\n",
       "      <td>WASH7P</td>\n",
       "      <td>.</td>\n",
       "      <td>-</td>\n",
       "    </tr>\n",
       "  </tbody>\n",
       "</table>\n",
       "</div>"
      ],
      "text/plain": [
       "  chrom  chromStart  chromEnd     name score strand\n",
       "0  chr1       11873     14409  DDX11L1     .      +\n",
       "3  chr1       14361     16765   WASH7P     .      -\n",
       "4  chr1       16857     17751   WASH7P     .      -\n",
       "5  chr1       15795     18061   WASH7P     .      -\n",
       "6  chr1       14361     19759   WASH7P     .      -"
      ]
     },
     "execution_count": 6,
     "metadata": {},
     "output_type": "execute_result"
    }
   ],
   "source": [
    "ucsc_reference_bed = ucsc_reference[[\"chrom\", \"chromStart\", \"chromEnd\", \"name\", \"score\", \"strand\"]]\n",
    "ucsc_reference_bed.head()"
   ]
  },
  {
   "cell_type": "code",
   "execution_count": 7,
   "metadata": {
    "collapsed": true,
    "deletable": true,
    "editable": true
   },
   "outputs": [],
   "source": [
    "ucsc_reference_bed.to_csv(\"../garnet_data/reference/ucsc_reference.hg19.bed\", sep='\\t', header=False, index=False)"
   ]
  },
  {
   "cell_type": "code",
   "execution_count": null,
   "metadata": {
    "collapsed": true,
    "deletable": true,
    "editable": true
   },
   "outputs": [],
   "source": []
  }
 ],
 "metadata": {
  "kernelspec": {
   "display_name": "Python 3",
   "language": "python",
   "name": "python3"
  },
  "language_info": {
   "codemirror_mode": {
    "name": "ipython",
    "version": 3
   },
   "file_extension": ".py",
   "mimetype": "text/x-python",
   "name": "python",
   "nbconvert_exporter": "python",
   "pygments_lexer": "ipython3",
   "version": "3.6.1"
  }
 },
 "nbformat": 4,
 "nbformat_minor": 1
}
